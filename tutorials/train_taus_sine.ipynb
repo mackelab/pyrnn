{
 "cells": [
  {
   "cell_type": "code",
   "execution_count": 1,
   "id": "83adf34b",
   "metadata": {},
   "outputs": [],
   "source": [
    "import numpy as np\n",
    "import sys\n",
    "from default_params import default_params\n",
    "import torch\n",
    "sys.path.append('..')\n",
    "from rnn.model import RNN\n",
    "from rnn.train import train_rnn\n",
    "import matplotlib.pyplot as plt\n",
    "from torch.utils.data import Dataset, DataLoader\n",
    "\n",
    "%matplotlib inline"
   ]
  },
  {
   "cell_type": "markdown",
   "id": "6e3c8af9",
   "metadata": {},
   "source": [
    "### Goal\n",
    "\n",
    "We noticed that generally RNNs create long-time scales by using their recurrent connectivity instead of their membrane time constants - even when optimising their time constants. The goal of this notebook is to illustrate an example task in which RNNs need to learn long time scales by adjusting their membrane time constant instead of the weights.\n",
    "\n",
    "The task will be having the RNN produce a slowly varying pattern, in this case a simple sine-wave\n",
    "\n",
    "Note: in [recent work](https://arxiv.org/abs/2308.12585) (Figure 5B) authors show that a two neuron RNN exhibits a limit cycle for an increasingly smaller parameter range as the frequency of the cycle decreases. In that regime, we expect the networks to want to use the membrane time constants instead of the weights."
   ]
  },
  {
   "cell_type": "code",
   "execution_count": 2,
   "id": "075fb431",
   "metadata": {},
   "outputs": [],
   "source": [
    "# create task\n",
    "\n",
    "dt = 1\n",
    "task_params={\"n_cycles\":1.2,\n",
    "         \"dt\":dt,\n",
    "         \"freq\":10,\n",
    "        \"trials_per_epoch\":50}\n",
    "\n",
    "class Cycle(Dataset):\n",
    "    \"\"\"\n",
    "    Creates a task in which the target is reproducing a sinusoidal oscillation\n",
    "    \"\"\"\n",
    "\n",
    "    def __init__(self, task_params):\n",
    "        \"\"\"\n",
    "        Args, task_params: dictionary of task parameters\n",
    "        \"\"\"\n",
    "        self.task_params=task_params\n",
    "        \n",
    "        self.trial_dur= int(task_params['n_cycles']*1000/(self.task_params['freq']*self.task_params['dt']))\n",
    "        self.time = torch.arange(0,task_params['n_cycles']*np.pi*2,\n",
    "                                 task_params['n_cycles']*np.pi*2/self.trial_dur)\n",
    "        self.phase0 = torch.rand(1,)*np.pi*2\n",
    "    def __len__(self):\n",
    "        return self.task_params['trials_per_epoch']\n",
    "        \n",
    "    def __getitem__(self,idx):\n",
    "        \"\"\"\n",
    "        Args, idx: trial number (arbitrary)\n",
    "        Returns: input, target, mask\n",
    "        \"\"\"\n",
    "        sin = torch.sin(self.time+self.phase0)\n",
    "        cos = torch.cos(self.time+self.phase0)\n",
    "        target= torch.stack([sin,cos])\n",
    "        return torch.zeros(self.trial_dur,1),target.T,torch.ones(self.trial_dur,1)"
   ]
  },
  {
   "cell_type": "code",
   "execution_count": 3,
   "id": "90276e14",
   "metadata": {},
   "outputs": [
    {
     "data": {
      "text/plain": [
       "[<matplotlib.lines.Line2D at 0x163b4b700>,\n",
       " <matplotlib.lines.Line2D at 0x163b4b5e0>]"
      ]
     },
     "execution_count": 3,
     "metadata": {},
     "output_type": "execute_result"
    },
    {
     "data": {
      "image/png": "[encoded data removed]",
      "text/plain": [
       "<Figure size 432x288 with 1 Axes>"
      ]
     },
     "metadata": {
      "needs_background": "light"
     },
     "output_type": "display_data"
    }
   ],
   "source": [
    "# plot example target\n",
    "cycle = Cycle(task_params)\n",
    "_,target,_ = cycle[1]\n",
    "plt.plot(target.detach())\n"
   ]
  },
  {
   "cell_type": "markdown",
   "id": "e60ff633",
   "metadata": {},
   "source": [
    "### Now train models\n",
    "We train on models with varying frequencies, and illustrate that for low-frequency oscillations only the models with trainable membrane time constants do the task\n",
    "\n",
    "The RNN consists of $N$ units, with activation $\\mathbf{x}(t)\\in \\mathcal{R}^N$, recurrently connected via a connectivity matrix $\\mathbf{J} \\in \\mathcal{R}^{N\\times N}$, and receiving input $\\mathbf{u}(t) \\in \\mathcal{R}^{3}$,\n",
    "\\begin{equation}\\tau \\frac{d\\mathbf{x}}{dt}=-\\mathbf{x}(t)+\\mathbf{J} \\tanh(\\mathbf{x}(t))+\\mathbf{I}\\mathbf{u}(t)+\\boldsymbol{\\xi}(t),\n",
    "\\end{equation}\n",
    " where $\\tau$ represents the time constant of the units, $\\tanh$ is an elementwise non-linearity, $\\mathbf{I}\\in \\mathcal{R}^{N\\times3}$ represents the input weights, and $\\boldsymbol{\\xi}(t) \\in {R}^N$ independent noise for each unit.\n",
    "\n",
    "During training we discretize using the Euler-Maruyama method and use backpropagation through time to optimise the network parameters. We use a mean-squared error loss between the targets plotted above, and a linear readout from the network's activity: $\\mathbf{W}^\\mathsf{T}\\tanh(\\mathbf{x})$ "
   ]
  },
  {
   "cell_type": "code",
   "execution_count": 4,
   "id": "7c8793b0",
   "metadata": {},
   "outputs": [],
   "source": [
    "# Set some model parameters\n",
    "\n",
    "model_params, training_params, _ = default_params()\n",
    "model_params['n_rec']=10\n",
    "model_params['dt']=dt\n",
    "model_params['train_x0']=True\n",
    "model_params['n_out']=2\n",
    "model_params['n_inp']=1\n",
    "model_params['tau_mean']=10\n",
    "\n",
    "model_params['tau_lims']=[5,100]\n"
   ]
  },
  {
   "cell_type": "code",
   "execution_count": 5,
   "id": "001e5986",
   "metadata": {},
   "outputs": [],
   "source": [
    "# Set learning parameters\n",
    "\n",
    "frequencies = [.75, 1,1.5]\n",
    "n_models = 3\n",
    "training_params['n_epochs']=100\n",
    "lrs = [0.01]\n",
    "loss = torch.nn.MSELoss()\n"
   ]
  },
  {
   "cell_type": "code",
   "execution_count": 6,
   "id": "b95189d2",
   "metadata": {},
   "outputs": [
    {
     "name": "stdout",
     "output_type": "stream",
     "text": [
      "project taus sigmoid\n",
      "spectral_rad: 1.0\n",
      "epoch 100 / 100: time=241.6 s, task loss=0.85376, reg loss=0.00000\n",
      "Done. Training took 241.6 sec.\n",
      "project taus sigmoid\n",
      "spectral_rad: 1.0\n",
      "epoch 100 / 100: time=241.9 s, task loss=0.98735, reg loss=0.00000\n",
      "Done. Training took 241.9 sec.\n",
      "project taus sigmoid\n",
      "spectral_rad: 0.99999994\n",
      "epoch 100 / 100: time=241.8 s, task loss=0.65545, reg loss=0.00000\n",
      "Done. Training took 241.8 sec.\n",
      "project taus sigmoid\n",
      "spectral_rad: 0.99999994\n",
      "epoch 100 / 100: time=179.3 s, task loss=0.36044, reg loss=0.00000\n",
      "Done. Training took 179.3 sec.\n",
      "project taus sigmoid\n",
      "spectral_rad: 1.0\n",
      "epoch 100 / 100: time=179.2 s, task loss=0.68664, reg loss=0.00000\n",
      "Done. Training took 179.2 sec.\n",
      "project taus sigmoid\n",
      "spectral_rad: 1.0\n",
      "epoch 100 / 100: time=179.1 s, task loss=0.87162, reg loss=0.00000\n",
      "Done. Training took 179.1 sec.\n",
      "project taus sigmoid\n",
      "spectral_rad: 1.0\n",
      "epoch 100 / 100: time=117.4 s, task loss=0.04410, reg loss=0.00000\n",
      "Done. Training took 117.4 sec.\n",
      "project taus sigmoid\n",
      "spectral_rad: 1.0\n",
      "epoch 100 / 100: time=116.9 s, task loss=0.07809, reg loss=0.00000\n",
      "Done. Training took 116.9 sec.\n",
      "project taus sigmoid\n",
      "spectral_rad: 1.0\n",
      "epoch 100 / 100: time=116.6 s, task loss=0.04096, reg loss=0.00000\n",
      "Done. Training took 116.6 sec.\n"
     ]
    }
   ],
   "source": [
    "# Train networks without trainable taus\n",
    "\n",
    "model_params['train_taus']=False\n",
    "loss_table_untrained = np.zeros((len(frequencies),n_models, len(lrs)))\n",
    "time_constants_untrained = np.zeros((len(frequencies),n_models, len(lrs)))\n",
    "for lr_ind, lr in enumerate(lrs):\n",
    "    training_params['lr']=lr\n",
    "    for freq_ind, freq in enumerate(frequencies):\n",
    "        for model_ind in range(n_models):\n",
    "            task_params['freq']=freq\n",
    "            rnn = RNN(model_params)\n",
    "            cycle = Cycle(task_params)\n",
    "            losses, reg_losses = train_rnn(rnn, training_params, cycle, sync_wandb=False)\n",
    "            loss_table_untrained[freq_ind,model_ind,lr_ind] = np.mean(losses[-10:])\n",
    "\n",
    "            mean_tau = np.mean(rnn.rnn.project_taus(rnn.rnn.taus_gaus,rnn.rnn.tau).detach().numpy())\n",
    "            time_constants_untrained[freq_ind,model_ind,lr_ind] = mean_tau\n",
    "            loss_table_untrained[freq_ind,model_ind,lr_ind] = np.mean(losses[-10:])\n",
    "\n"
   ]
  },
  {
   "cell_type": "code",
   "execution_count": 8,
   "id": "a508f826",
   "metadata": {},
   "outputs": [
    {
     "name": "stdout",
     "output_type": "stream",
     "text": [
      "project taus sigmoid\n",
      "spectral_rad: 1.0\n",
      "epoch 100 / 100: time=348.0 s, task loss=0.01051, reg loss=0.00000\n",
      "Done. Training took 348.0 sec.\n",
      "project taus sigmoid\n",
      "spectral_rad: 1.0\n",
      "epoch 100 / 100: time=349.5 s, task loss=0.00947, reg loss=0.00000\n",
      "Done. Training took 349.5 sec.\n",
      "project taus sigmoid\n",
      "spectral_rad: 0.99999994\n",
      "epoch 100 / 100: time=349.9 s, task loss=0.03505, reg loss=0.00000\n",
      "Done. Training took 349.9 sec.\n",
      "project taus sigmoid\n",
      "spectral_rad: 1.0\n",
      "epoch 100 / 100: time=261.9 s, task loss=0.00854, reg loss=0.00000\n",
      "Done. Training took 261.9 sec.\n",
      "project taus sigmoid\n",
      "spectral_rad: 1.0\n",
      "epoch 100 / 100: time=264.1 s, task loss=0.01092, reg loss=0.00000\n",
      "Done. Training took 264.1 sec.\n",
      "project taus sigmoid\n",
      "spectral_rad: 1.0\n",
      "epoch 100 / 100: time=261.2 s, task loss=0.01169, reg loss=0.00000\n",
      "Done. Training took 261.2 sec.\n",
      "project taus sigmoid\n",
      "spectral_rad: 1.0\n",
      "epoch 100 / 100: time=169.8 s, task loss=0.01200, reg loss=0.00000\n",
      "Done. Training took 169.8 sec.\n",
      "project taus sigmoid\n",
      "spectral_rad: 1.0\n",
      "epoch 100 / 100: time=169.7 s, task loss=0.01677, reg loss=0.00000\n",
      "Done. Training took 169.7 sec.\n",
      "project taus sigmoid\n",
      "spectral_rad: 1.0\n",
      "epoch 100 / 100: time=170.5 s, task loss=0.01910, reg loss=0.00000\n",
      "Done. Training took 170.5 sec.\n"
     ]
    }
   ],
   "source": [
    "# Train networks with trainable taus\n",
    "\n",
    "model_params['train_taus']=True\n",
    "loss_table_trained = np.zeros((len(frequencies),n_models, len(lrs)))\n",
    "time_constants_trained = np.zeros((len(frequencies),n_models, len(lrs)))\n",
    "for lr_ind, lr in enumerate(lrs):\n",
    "    training_params['lr']=lr\n",
    "    for freq_ind, freq in enumerate(frequencies):\n",
    "        for model_ind in range(n_models):\n",
    "            task_params['freq']=freq\n",
    "            rnn = RNN(model_params)\n",
    "            cycle = Cycle(task_params)\n",
    "            losses, reg_losses = train_rnn(rnn, training_params, cycle, sync_wandb=False)\n",
    "            loss_table_trained[freq_ind,model_ind,lr_ind] = np.mean(losses[-10:])\n",
    "            mean_tau = np.mean(rnn.rnn.project_taus(rnn.rnn.taus_gaus,rnn.rnn.tau).detach().numpy())\n",
    "\n",
    "            time_constants_trained[freq_ind,model_ind,lr_ind] = mean_tau\n",
    "\n"
   ]
  },
  {
   "cell_type": "code",
   "execution_count": 21,
   "id": "ed6a2036",
   "metadata": {},
   "outputs": [
    {
     "data": {
      "text/plain": [
       "<matplotlib.legend.Legend at 0x1685967f0>"
      ]
     },
     "execution_count": 21,
     "metadata": {},
     "output_type": "execute_result"
    },
    {
     "data": {
      "image/png": "[encoded data removed]",
      "text/plain": [
       "<Figure size 720x288 with 2 Axes>"
      ]
     },
     "metadata": {
      "needs_background": "light"
     },
     "output_type": "display_data"
    }
   ],
   "source": [
    "# plot results scatter\n",
    "\n",
    "fig,ax = plt.subplots(1,2,figsize=(10,4))\n",
    "uc = 'teal'\n",
    "tc = 'purple'\n",
    "for mod_ind in range(n_models-1):\n",
    "    ax[0].scatter(frequencies, loss_table_untrained[:,mod_ind,0],color=uc)\n",
    "    ax[1].scatter(frequencies, time_constants_untrained[:,mod_ind,0],color=uc)\n",
    "    ax[0].scatter(frequencies, loss_table_trained[:,mod_ind,0],color=tc)\n",
    "    ax[1].scatter(frequencies, time_constants_trained[:,mod_ind,0],color=tc)\n",
    "mod_ind+=1\n",
    "ax[0].scatter(frequencies, loss_table_untrained[:,mod_ind,0],color=uc)\n",
    "ax[1].scatter(frequencies, time_constants_untrained[:,mod_ind,0],color=uc, label=r'$\\tau$ fixed')\n",
    "ax[0].scatter(frequencies, loss_table_trained[:,mod_ind,0],color=tc)\n",
    "ax[1].scatter(frequencies, time_constants_trained[:,mod_ind,0],color=tc, label=r'$\\tau$ trained')\n",
    "ax[0].set_xticks(frequencies)\n",
    "ax[1].set_xticks(frequencies)\n",
    "ax[0].set_xlabel('frequency (Hz)')\n",
    "ax[1].set_xlabel('frequency (Hz)')\n",
    "ax[0].set_title('Losses')\n",
    "ax[0].set_ylabel('mse')\n",
    "ax[1].set_title('Time constants')\n",
    "ax[1].set_ylabel(r'$\\tau$ (ms)')\n",
    "ax[1].legend()\n"
   ]
  },
  {
   "cell_type": "code",
   "execution_count": 56,
   "id": "041e9509",
   "metadata": {},
   "outputs": [
    {
     "data": {
      "text/plain": [
       "<matplotlib.legend.Legend at 0x1697ab670>"
      ]
     },
     "execution_count": 56,
     "metadata": {},
     "output_type": "execute_result"
    },
    {
     "data": {
      "image/png": "[encoded data removed]",
      "text/plain": [
       "<Figure size 720x288 with 2 Axes>"
      ]
     },
     "metadata": {
      "needs_background": "light"
     },
     "output_type": "display_data"
    }
   ],
   "source": [
    "# plot results box\n",
    "\n",
    "loss_u = {frequencies[0]: loss_table_untrained[0,:,0], \n",
    "           frequencies[1]: loss_table_untrained[1,:,0],\n",
    "           frequencies[2]: loss_table_untrained[2,:,0]}\n",
    "loss_t = {frequencies[0]: loss_table_trained[0,:,0], \n",
    "           frequencies[1]: loss_table_trained[1,:,0],\n",
    "           frequencies[2]: loss_table_trained[2,:,0]}\n",
    "\n",
    "tau_u = {frequencies[0]: time_constants_untrained[0,:,0], \n",
    "           frequencies[1]: time_constants_untrained[1,:,0],\n",
    "           frequencies[2]: time_constants_untrained[2,:,0]}\n",
    "tau_t = {frequencies[0]: time_constants_trained[0,:,0], \n",
    "           frequencies[1]: time_constants_trained[1,:,0],\n",
    "           frequencies[2]: time_constants_trained[2,:,0]}\n",
    "\n",
    "fig, ax = plt.subplots(1,2,figsize=(10,4))\n",
    "ax[0].boxplot(loss_u.values(), patch_artist=True,boxprops=dict(facecolor=uc),medianprops=dict(color='k'))\n",
    "ax[0].boxplot(loss_t.values(), patch_artist=True, boxprops=dict(facecolor=tc),medianprops=dict(color='k'))\n",
    "ax[0].set_xticks(range(1,4))\n",
    "ax[0].set_xticklabels(loss_t.keys())\n",
    "\n",
    "ax[1].boxplot(tau_u.values(), patch_artist=True,boxprops=dict(facecolor=uc),medianprops=dict(color='k'))\n",
    "ax[1].boxplot(tau_t.values(), patch_artist=True, boxprops=dict(facecolor=tc),medianprops=dict(color='k'))\n",
    "ax[1].set_xticks(range(1,4))\n",
    "ax[1].set_xticklabels(loss_t.keys())\n",
    "ax[1].scatter(1, np.median(time_constants_untrained[0,:,0]),color=uc,s=20, marker='s',label=r'$\\tau$ fixed',zorder=-10)\n",
    "ax[1].scatter(1, np.median(time_constants_trained[0,:,0]),color=tc,s=20, marker='s',label=r'$\\tau$ trained',zorder=-10)\n",
    "ax[1].legend()\n",
    "\n",
    "ax[0].set_xlabel('frequency (Hz)')\n",
    "ax[1].set_xlabel('frequency (Hz)')\n",
    "ax[0].set_title('Losses')\n",
    "ax[0].set_ylabel('mse')\n",
    "ax[1].set_title('Mean time constants')\n",
    "ax[1].set_ylabel(r'$\\tau$ (ms)')\n",
    "ax[1].legend()\n"
   ]
  }
 ],
 "metadata": {
  "kernelspec": {
   "display_name": "Python 3 (ipykernel)",
   "language": "python",
   "name": "python3"
  },
  "language_info": {
   "codemirror_mode": {
    "name": "ipython",
    "version": 3
   },
   "file_extension": ".py",
   "mimetype": "text/x-python",
   "name": "python",
   "nbconvert_exporter": "python",
   "pygments_lexer": "ipython3",
   "version": "3.8.13"
  },
  "toc": {
   "base_numbering": 1,
   "nav_menu": {},
   "number_sections": true,
   "sideBar": true,
   "skip_h1_title": false,
   "title_cell": "Table of Contents",
   "title_sidebar": "Contents",
   "toc_cell": false,
   "toc_position": {},
   "toc_section_display": true,
   "toc_window_display": false
  }
 },
 "nbformat": 4,
 "nbformat_minor": 5
}
