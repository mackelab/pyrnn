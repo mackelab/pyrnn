{
 "cells": [
  {
   "cell_type": "code",
   "execution_count": 1,
   "id": "65d93fbc",
   "metadata": {},
   "outputs": [],
   "source": [
    "import numpy as np\n",
    "import torch\n",
    "from default_params import default_params\n",
    "import sys\n",
    "sys.path.append('..')\n",
    "from rnn.reaching_task import Reaching\n",
    "from rnn.utils import PC_traj\n",
    "from rnn.train import *\n",
    "from rnn.model import RNN\n",
    "from torch.utils.data import DataLoader\n",
    "\n",
    "import matplotlib as mpl\n",
    "import matplotlib.pyplot as plt\n",
    "%matplotlib inline\n",
    "\n",
    "torch.manual_seed(1)\n",
    "np.random.seed(1)"
   ]
  },
  {
   "cell_type": "markdown",
   "id": "79ab0ff8",
   "metadata": {},
   "source": [
    "### Here we will repeat the train reach tutorial, but give the RNN connectivity contstraints\n",
    "\n",
    "In particular the recurrent weights $\\mathbf{J}$ will be constrained by an Adjecency matrix $\\mathbf{A}$ and a diagonal matrix specifiying the sign $\\mathbf{D}$.\n",
    "\n",
    "$\\mathbf{J}_{eff} = \\mathbf{A} \\otimes \\mathbf{D} [\\mathbf{J}]_+$"
   ]
  },
  {
   "cell_type": "markdown",
   "id": "ba9a3cbf",
   "metadata": {},
   "source": [
    "### We now setup the task for the RNN\n",
    "The stimulus position is defined by a phase $\\theta \\in [0, 2\\pi)$\n",
    "\n",
    "The model has three input channels. It receives $\\sin(\\theta),\\cos(\\theta)$ to input channel 1 and 2, respectively, during stimulus (Target) onset. During the Movement onset the model gets a constant input cue to channel 3, and it is tasked to output the stored location (also as $\\sin(\\theta),\\cos(\\theta)$).\n",
    "\n",
    "The model will learn to perform this task by training it on batches of trials with different stimulus locations $\\theta$.\n",
    "\n",
    "![Monkey reach task](https://raw.githubusercontent.com/mackelab/pyrnn/main/tutorials/images/MonkeyReach.png)\n",
    "\n",
    "image adapted from Gallego et al. 2018: https://www.biorxiv.org/content/10.1101/447441v1.full)"
   ]
  },
  {
   "cell_type": "code",
   "execution_count": 2,
   "id": "bfe38745",
   "metadata": {},
   "outputs": [],
   "source": [
    "# Setup a task\n",
    "\n",
    "task_params = {\n",
    "        'onset': [25,50], # time till target stimulus onset (uniform between)\n",
    "        'trial_len' : 450, # trial duration\n",
    "        'stim_dur' : [25,50], # target stimulus duration\n",
    "        'delay_dur': [50,200],# time till Movement onset cue \n",
    "        'n_stim': 6 #number of stimuli locations\n",
    "}\n",
    "reaching = Reaching(task_params)   \n",
    "stimulus, target, loss_mask = reaching[1]\n"
   ]
  },
  {
   "cell_type": "code",
   "execution_count": 3,
   "id": "195cc7db",
   "metadata": {
    "scrolled": true
   },
   "outputs": [
    {
     "data": {
      "image/png": "[encoded data removed]",
      "text/plain": [
       "<Figure size 432x216 with 5 Axes>"
      ]
     },
     "metadata": {
      "needs_background": "light"
     },
     "output_type": "display_data"
    }
   ],
   "source": [
    "# Plot an example trial\n",
    "\n",
    "fig,axs = plt.subplots(3,2,figsize=(6, 3))\n",
    "fig.suptitle(\"Example trial\")\n",
    "axs[0,0].set_title(\"Input channels\")\n",
    "axs[0,1].set_title(\"Target\")\n",
    "axs[0,0].set_ylabel(r\"$\\sin(\\theta)$\")\n",
    "axs[1,0].set_ylabel(r\"$\\cos(\\theta)$\")\n",
    "axs[2,0].set_ylabel(\"cue\")\n",
    "\n",
    "for i in range(3):\n",
    "    axs[i,0].plot(stimulus[:,i],color='teal')\n",
    "    axs[i,0].set_xlim(0,task_params['trial_len'])\n",
    "    axs[i,0].set_ylim(-1.2,1.2)\n",
    "\n",
    "for i in range(2):\n",
    "    axs[i,1].plot(target[:,i], color='purple')\n",
    "    axs[i,0].set_xlim(0,task_params['trial_len'])\n",
    "    axs[i,1].set_ylim(-1.2,1.2)\n",
    "    axs[i,0].set_xticklabels([])\n",
    "axs[0,1].set_xticklabels([])\n",
    "axs[2,1].set_xlabel(\"time steps\")\n",
    "axs[2,0].set_xlabel(\"time steps\")\n",
    "fig.delaxes(axs[2,1])"
   ]
  },
  {
   "cell_type": "markdown",
   "id": "26b4488a",
   "metadata": {},
   "source": [
    "### Initialize a constrained RNN and start training it\n",
    "\n",
    "The RNN consists of $N$ units, with activation $\\mathbf{x}(t)\\in \\mathcal{R}^N$, recurrently connected via a connectivity matrix $\\mathbf{J}_{eff} \\in \\mathcal{R}^{N\\times N}$, and receiving input $\\mathbf{u}(t) \\in \\mathcal{R}^{3}$,\n",
    "\\begin{equation}\\tau \\frac{d\\mathbf{x}}{dt}=-\\mathbf{x}(t)+\\mathbf{J}_{eff} \\tanh(\\mathbf{x}(t))+\\mathbf{I}\\mathbf{u}(t)+\\boldsymbol{\\xi}(t),\n",
    "\\end{equation}\n",
    " where $\\tau$ represents the time constant of the units, $\\tanh$ is an elementwise non-linearity, $\\mathbf{I}\\in \\mathcal{R}^{N\\times3}$ represents the input weights, and $\\boldsymbol{\\xi}(t) \\in {R}^N$ independent noise for each unit.\n",
    "\n",
    "During training we discretize using the Euler-Maruyama method and use backpropagation through time to optimise the network parameters. We use a mean-squared error loss between the targets plotted above, and a linear readout from the network's activity: $\\mathbf{W}^\\mathsf{T}\\tanh(\\mathbf{x})$ \n"
   ]
  },
  {
   "cell_type": "code",
   "execution_count": 4,
   "id": "d1daa3ca",
   "metadata": {},
   "outputs": [],
   "source": [
    "# set model params\n",
    "model_params, training_params, _ = default_params()\n",
    "model_params['n_out']=2\n",
    "model_params['n_inp']=3\n",
    "training_params['n_epochs']=1200"
   ]
  },
  {
   "cell_type": "markdown",
   "id": "40120e99",
   "metadata": {},
   "source": [
    "#### Implement constraints\n",
    "\n",
    "We have to specifify a dale_mask for exitatory / inhibitory connections and a conn_mask for the adjacency matrix. We also have to readjust the recurrent weights"
   ]
  },
  {
   "cell_type": "code",
   "execution_count": 5,
   "id": "d8183ab2",
   "metadata": {},
   "outputs": [
    {
     "name": "stdout",
     "output_type": "stream",
     "text": [
      "spectral_rad: 0.99999994\n"
     ]
    }
   ],
   "source": [
    "# 1. use excitatory / inhibitory connections\n",
    "# here I make half excitatory and half inhibitory\n",
    "\n",
    "dale_mask = torch.eye(model_params['n_rec'])\n",
    "dale_mask[(model_params['n_rec']//2):]*=-1\n",
    "model_params['dale_mask']=dale_mask\n",
    "\n",
    "\n",
    "# 2.  use an adjacency matrix\n",
    "# here I use some random sparsity\n",
    "\n",
    "sparsity = 0.25\n",
    "conn_mask  = torch.bernoulli(torch.ones((model_params['n_rec'],model_params['n_rec']))*sparsity)\n",
    "model_params['conn_mask']=conn_mask\n",
    "\n",
    "\n",
    "# 3. Initialise model\n",
    "\n",
    "rnn = RNN(model_params)\n",
    "\n",
    "\n",
    "# 4. Adjust recurrent weights to account for masks\n",
    "\n",
    "with torch.no_grad():\n",
    "    \n",
    "    #scale weights to adjust for sparsity\n",
    "    rnn.rnn.w_rec.copy_(rnn.rnn.w_rec/np.sqrt(sparsity))\n",
    "    \n",
    "    #take absolute value for Dale\n",
    "    rnn.rnn.w_rec.copy_(torch.abs(rnn.rnn.w_rec))\n",
    "    \n",
    "    # NOTE: you likely want to preserve EI balance at initialisation\n",
    "    # this means that e.g. if  20% of units are inhibitory \n",
    "    # their weights should be increased by a factor 4"
   ]
  },
  {
   "cell_type": "code",
   "execution_count": 6,
   "id": "360c6b0d",
   "metadata": {},
   "outputs": [
    {
     "data": {
      "image/png": "[encoded data removed]",
      "text/plain": [
       "<Figure size 400x150 with 3 Axes>"
      ]
     },
     "metadata": {},
     "output_type": "display_data"
    }
   ],
   "source": [
    "# Plot weights\n",
    "with mpl.rc_context(fname=\"matplotlibrc\"):\n",
    "    w_eff = rnn.rnn.conn_mask(rnn.rnn.dale_mask(rnn.rnn.w_rec))\n",
    "    w_eff = w_eff.cpu().detach().numpy()\n",
    "    eigvals = np.linalg.eigvals(w_eff)\n",
    "    fig, axs = plt.subplots(1, 2, figsize=(4, 1.5))\n",
    "    axs[0].scatter(np.real(eigvals), np.imag(eigvals))\n",
    "    axs[0].set_xlabel(r\"$\\mathcal{R}(\\lambda)$\")\n",
    "    axs[0].set_ylabel(r\"$\\mathcal{Im}(\\lambda)$\")\n",
    "    axs[1].set_ylabel(\"To: \")\n",
    "    axs[1].set_xlabel(\"From: \")\n",
    "    axs[1].set_xticks([])\n",
    "    axs[1].set_yticks([])\n",
    "    vmax = np.max(abs(w_eff))\n",
    "    im = axs[1].imshow(w_eff, vmin=-vmax, vmax=vmax, cmap=\"coolwarm\")\n",
    "    fig.colorbar(im)"
   ]
  },
  {
   "cell_type": "code",
   "execution_count": null,
   "id": "74c7a1e3",
   "metadata": {
    "scrolled": true
   },
   "outputs": [
    {
     "name": "stdout",
     "output_type": "stream",
     "text": [
      "epoch 28 / 3000: time=4.4 s, task loss=0.39444, reg loss=0.00000\r"
     ]
    }
   ],
   "source": [
    "# Training (connectivity constrained models need a bit more trials in my experience)\n",
    "training_params['n_epochs']=3000\n",
    "losses, reg_losses = train_rnn(rnn, training_params, reaching, sync_wandb=False)"
   ]
  },
  {
   "cell_type": "code",
   "execution_count": null,
   "id": "bc12c219",
   "metadata": {},
   "outputs": [],
   "source": [
    "# Plot trained weights\n",
    "with mpl.rc_context(fname=\"matplotlibrc\"):\n",
    "    w_eff = rnn.rnn.conn_mask(rnn.rnn.dale_mask(rnn.rnn.w_rec))\n",
    "    w_eff = w_eff.cpu().detach().numpy()\n",
    "    eigvals = np.linalg.eigvals(w_eff)\n",
    "    fig, axs = plt.subplots(1, 2, figsize=(4, 1.5))\n",
    "    axs[0].scatter(np.real(eigvals), np.imag(eigvals))\n",
    "    axs[0].set_xlabel(r\"$\\mathcal{R}(\\lambda)$\")\n",
    "    axs[0].set_ylabel(r\"$\\mathcal{Im}(\\lambda)$\")\n",
    "    axs[1].set_ylabel(\"To: \")\n",
    "    axs[1].set_xlabel(\"From: \")\n",
    "    axs[1].set_xticks([])\n",
    "    axs[1].set_yticks([])\n",
    "    vmax = np.max(abs(w_eff))\n",
    "    im = axs[1].imshow(w_eff, vmin=-vmax, vmax=vmax, cmap=\"coolwarm\")\n",
    "    fig.colorbar(im)"
   ]
  },
  {
   "cell_type": "code",
   "execution_count": null,
   "id": "2830e856",
   "metadata": {},
   "outputs": [],
   "source": [
    "# Plot the loss\n",
    "\n",
    "plt.plot(losses,color='teal')\n",
    "plt.xlim(0)\n",
    "plt.ylim(0)\n",
    "plt.xlabel(\"epochs\")\n",
    "plt.ylabel(\"loss\")"
   ]
  },
  {
   "cell_type": "markdown",
   "id": "8485aa8e",
   "metadata": {},
   "source": [
    "### Plot example output\n",
    "\n",
    "Here we plot the output of the network for an example trial. We should see a good match to the target\n"
   ]
  },
  {
   "cell_type": "code",
   "execution_count": null,
   "id": "1a076b92",
   "metadata": {},
   "outputs": [],
   "source": [
    "rates, pred = predict(rnn, stimulus, mse_loss, target, loss_mask)\n",
    "fig, axs = plt.subplots(2,1, figsize=(4, 4))\n",
    "for i in range(2):\n",
    "    axs[i].set_ylabel(\"channel \"+str(i+1))\n",
    "    axs[i].plot(pred[0,:,i], label=\"prediction\",color='pink',zorder=2)\n",
    "    axs[i].plot(target[:,i], label=\"target\",color='purple',zorder=0)\n",
    "    axs[i].set_xlim(0, task_params['trial_len'])\n",
    "    axs[i].set_xlabel(\"timesteps\")\n",
    "    axs[i].set_ylim(-1.2, 1.2)\n",
    "axs[1].legend()"
   ]
  },
  {
   "cell_type": "code",
   "execution_count": null,
   "id": "bcf17ba2",
   "metadata": {},
   "outputs": [],
   "source": [
    "# save\n",
    "save_rnn(\"reach_model\", rnn, model_params, task_params, training_params)"
   ]
  },
  {
   "cell_type": "markdown",
   "id": "88deb85e",
   "metadata": {},
   "source": [
    "### Let's look at low-dimensional dynamics!\n",
    "\n",
    "We can understand how the model performs the task and stores stimulus information by looking at its fixed points.\n",
    "\n",
    "See Sussillo & Barak 2013: https://pubmed.ncbi.nlm.nih.gov/23272922/\n",
    "or Driscoll et al. 2022: https://www.biorxiv.org/content/10.1101/2022.08.15.503870v1\n",
    "\n",
    "To find fixed points, here we will first simply present stimuli and run the dynamics forward for a long time, till the network converges (in the last cell we use a more through method). We will see that the model implements a 'ring' of fixed points which it can use to store information\n",
    "\n",
    "We plot the fixed point (colorful dots below) and trajectories (grey lines) for different trials, by projecting on the first two principal components of the network activity"
   ]
  },
  {
   "cell_type": "code",
   "execution_count": null,
   "id": "f7da1657",
   "metadata": {},
   "outputs": [],
   "source": [
    "# Setup trials with the different stimuli presented\n",
    "\n",
    "task_params['trial_len']=1000\n",
    "reaching = Reaching(task_params)\n",
    "dataloader = DataLoader(reaching, batch_size=reaching.__len__(), shuffle=False)\n",
    "stimulus, target, loss_mask = next(iter(dataloader))\n",
    "stimulus[:,100:,:]=0\n",
    "rnn.params['noise_std']=0\n",
    "rates_fp, pred = predict(rnn, stimulus)\n"
   ]
  },
  {
   "cell_type": "code",
   "execution_count": null,
   "id": "956adf2d",
   "metadata": {},
   "outputs": [],
   "source": [
    "# quick check if rates have converged, this should be a small number\n",
    "print(np.linalg.norm(np.diff(rates_fp[:,-50:,:],axis=1)))"
   ]
  },
  {
   "cell_type": "code",
   "execution_count": null,
   "id": "635864a6",
   "metadata": {},
   "outputs": [],
   "source": [
    "# plot the trajectories in PC space\n",
    "\n",
    "z, varexp = PC_traj(rates_fp, n_comp=3)\n",
    "alpha=0.2\n",
    "cmap = mpl.colormaps['hsv']\n",
    "fig = plt.figure(figsize=(5,5))\n",
    "t_end = -2\n",
    "ax = fig.add_subplot(111)\n",
    "\n",
    "# add final points\n",
    "cax=ax.scatter(z[:, t_end , 0], z[:, t_end , 1],c=np.arange(task_params['n_stim']), cmap=cmap,vmin=0, vmax=task_params['n_stim']-1,s=50,alpha=1)\n",
    "\n",
    "# add trajectories\n",
    "for trial_i in range(task_params['n_stim']):\n",
    "    ax.plot(z[trial_i, :t_end, 0], z[trial_i, :t_end, 1], color='black', alpha=.5,zorder=-2)\n",
    "\n",
    "# add starting positions\n",
    "ax.scatter(z[:, 0 , 0], z[:, 0 , 1],c='black', s=50,alpha=1,marker='^',label='t=0')\n",
    "\n",
    "ax.set_xlabel(\"PC 1, var {:.2f}\".format(varexp[0]))\n",
    "ax.set_ylabel(\"PC 2, var {:.2f}\".format(varexp[1]))\n",
    "\n",
    "cbar=fig.colorbar(cax,fraction=0.02, pad=0.2,ticks=[0,task_params['n_stim']/2-0.5,task_params['n_stim']-1])\n",
    "cbar.ax.set_yticklabels(['0',r'$\\pi$',r'$2\\pi$'])\n",
    "cbar.ax.set_ylabel(r'stimulus position ($\\theta$)')\n",
    "plt.legend()"
   ]
  },
  {
   "cell_type": "markdown",
   "id": "a02a1d5c",
   "metadata": {},
   "source": [
    "### Use the [the fixed point finder toolbox](https://github.com/mattgolub/fixed-point-finder/blob/master/FixedPoints.py) to find fixed points\n",
    "\n",
    "In this repo we included a pytorch version of the original tensorflow toolbox\n",
    "\n",
    "It finds fixed points by using gradient descent to find minima of $q=\\lVert \\frac{d\\mathbf{x}}{dt}\\rVert$. Again, it also finds a ring of fixed points. One could next investigate how input changes the stability of these points"
   ]
  },
  {
   "cell_type": "code",
   "execution_count": null,
   "id": "fad8bcb6",
   "metadata": {},
   "outputs": [],
   "source": [
    "from pytorch_fixed_point_finder.FixedPointFinder import FixedPointFinder\n",
    "from pytorch_fixed_point_finder.plot_utils import plot_fps\n",
    "\n",
    "NOISE_SCALE = 0.025 # Standard deviation of noise added to initial states\n",
    "N_INITS = 1024 # The number of initial states to provide\n",
    "\n",
    "'''Fixed point finder hyperparameters. See FixedPointFinder.py for detailed\n",
    "descriptions of available hyperparameters.'''\n",
    "fpf_hps = {'max_iters':100000}\n",
    "\n",
    "# Setup the fixed point finder\n",
    "fpf = FixedPointFinder(rnn.rnn, **fpf_hps)\n",
    "\n",
    "# Study the system in the absence of input pulses (e.g., all inputs are 0)\n",
    "inputs = np.zeros([1,3])\n",
    "\n",
    "# sample trajectories\n",
    "task_params['trial_len']=25\n",
    "reaching = Reaching(task_params)\n",
    "dataloader = DataLoader(reaching, batch_size=reaching.__len__(), shuffle=False)\n",
    "stimulus, target, loss_mask = next(iter(dataloader))\n",
    "rates, pred = predict(rnn, stimulus)\n",
    "\n",
    "'''Draw random, noise corrupted samples of those state trajectories\n",
    "to use as initial states for the fixed point optimizations.'''\n",
    "initial_states = fpf.sample_states(rates_fp,\n",
    "    n_inits=N_INITS,\n",
    "    noise_scale=NOISE_SCALE)\n",
    "\n",
    "\n",
    "# Run the fixed point finder\n",
    "unique_fps, all_fps = fpf.find_fixed_points(torch.from_numpy(initial_states).to(torch.float32), \n",
    "                                            torch.from_numpy(inputs).to(torch.float32))\n"
   ]
  },
  {
   "cell_type": "code",
   "execution_count": null,
   "id": "d9d42572",
   "metadata": {},
   "outputs": [],
   "source": [
    "# Visualize identified fixed points with overlaid RNN state trajectories\n",
    "# All visualized in the 3D PCA space fit to the example RNN states.\n",
    "fig = plot_fps(unique_fps, rates_fp,\n",
    "    plot_start_time=0)\n"
   ]
  },
  {
   "cell_type": "code",
   "execution_count": null,
   "id": "f5807d4f",
   "metadata": {},
   "outputs": [],
   "source": []
  }
 ],
 "metadata": {
  "kernelspec": {
   "display_name": "Python 3 (ipykernel)",
   "language": "python",
   "name": "python3"
  },
  "language_info": {
   "codemirror_mode": {
    "name": "ipython",
    "version": 3
   },
   "file_extension": ".py",
   "mimetype": "text/x-python",
   "name": "python",
   "nbconvert_exporter": "python",
   "pygments_lexer": "ipython3",
   "version": "3.8.13"
  },
  "toc": {
   "base_numbering": 1,
   "nav_menu": {},
   "number_sections": true,
   "sideBar": true,
   "skip_h1_title": false,
   "title_cell": "Table of Contents",
   "title_sidebar": "Contents",
   "toc_cell": false,
   "toc_position": {},
   "toc_section_display": true,
   "toc_window_display": true
  }
 },
 "nbformat": 4,
 "nbformat_minor": 5
}
