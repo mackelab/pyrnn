{
 "cells": [
  {
   "cell_type": "code",
   "execution_count": 1,
   "id": "2de500bd",
   "metadata": {},
   "outputs": [],
   "source": [
    "import numpy as np\n",
    "import torch\n",
    "\n",
    "from default_params import default_params\n",
    "\n",
    "import sys\n",
    "sys.path.append('..')\n",
    "from rnn.dms_task import DMS\n",
    "from rnn.utils import *\n",
    "from rnn.train import *\n",
    "from rnn.model import RNN\n",
    "\n",
    "import matplotlib as mpl\n",
    "import matplotlib.pyplot as plt\n",
    "\n",
    "%matplotlib inline\n",
    "\n",
    "torch.manual_seed(1)\n",
    "np.random.seed(1)"
   ]
  },
  {
   "cell_type": "markdown",
   "id": "f3f91f3c",
   "metadata": {},
   "source": [
    "### We first initialize dictionaries to keep track of model, task and training parameters"
   ]
  },
  {
   "cell_type": "code",
   "execution_count": 2,
   "id": "5c78efd2",
   "metadata": {},
   "outputs": [],
   "source": [
    "model_params, training_params, task_params = default_params()"
   ]
  },
  {
   "cell_type": "markdown",
   "id": "4ce529d3",
   "metadata": {},
   "source": [
    "### We can then initialize the task and plot an example trial\n",
    "Here the network is trained to perform a delayed match to sample task. It recieves two stimuli with a short delay between them and is tasked to give a positive output if the two stimuli match and a negative output of the two stimuli are different"
   ]
  },
  {
   "cell_type": "code",
   "execution_count": 3,
   "id": "3b4e74ef",
   "metadata": {},
   "outputs": [
    {
     "name": "stderr",
     "output_type": "stream",
     "text": [
      "findfont: Font family ['serif'] not found. Falling back to DejaVu Sans.\n",
      "findfont: Generic family 'serif' not found because none of the following families were found: Arial, sans-serif\n"
     ]
    },
    {
     "data": {
      "image/png": "[encoded data removed]",
      "text/plain": [
       "<Figure size 400x300 with 2 Axes>"
      ]
     },
     "metadata": {},
     "output_type": "display_data"
    }
   ],
   "source": [
    "dms = DMS(task_params)\n",
    "\n",
    "s, t, m = dms[0]\n",
    "\n",
    "with mpl.rc_context(fname=\"matplotlibrc\"):\n",
    "\n",
    "    fig, axs = plt.subplots(2, figsize=(4, 3))\n",
    "    axs[0].plot(s[:, 0], label=\"stim 1\")\n",
    "    axs[0].plot(s[:, 1] + 1.1, label=\"stim 2\")\n",
    "    axs[0].set_ylim(-0.1, 2.1)\n",
    "    axs[0].legend()\n",
    "    axs[0].set_xticks([])\n",
    "    axs[0].set_yticks([])\n",
    "    axs[0].set_xlim(0, dms.trial_len())\n",
    "    axs[1].plot(t, label=\"target\")\n",
    "    axs[1].legend()\n",
    "    axs[1].set_ylim(-1.1, 1.1)\n",
    "    axs[1].set_xlabel(\"timesteps\")\n",
    "    axs[1].set_xlim(0, dms.trial_len())"
   ]
  },
  {
   "cell_type": "markdown",
   "id": "1814f03f",
   "metadata": {},
   "source": [
    "### Initialize an RNN and start training it"
   ]
  },
  {
   "cell_type": "code",
   "execution_count": 4,
   "id": "5ea4f9ba",
   "metadata": {},
   "outputs": [
    {
     "name": "stdout",
     "output_type": "stream",
     "text": [
      "spectral_rad: 1.5000001\n",
      "epoch 79 / 200: time=9.6 s, task loss=0.00296, reg loss=0.00000\r"
     ]
    },
    {
     "ename": "KeyboardInterrupt",
     "evalue": "",
     "output_type": "error",
     "traceback": [
      "\u001b[0;31m---------------------------------------------------------------------------\u001b[0m",
      "\u001b[0;31mKeyboardInterrupt\u001b[0m                         Traceback (most recent call last)",
      "\u001b[0;32m<ipython-input-4-5a65f950413f>\u001b[0m in \u001b[0;36m<module>\u001b[0;34m\u001b[0m\n\u001b[1;32m      1\u001b[0m \u001b[0mrnn\u001b[0m \u001b[0;34m=\u001b[0m \u001b[0mRNN\u001b[0m\u001b[0;34m(\u001b[0m\u001b[0mmodel_params\u001b[0m\u001b[0;34m)\u001b[0m\u001b[0;34m\u001b[0m\u001b[0;34m\u001b[0m\u001b[0m\n\u001b[1;32m      2\u001b[0m \u001b[0;34m\u001b[0m\u001b[0m\n\u001b[0;32m----> 3\u001b[0;31m \u001b[0mlosses\u001b[0m\u001b[0;34m,\u001b[0m \u001b[0mreg_losses\u001b[0m \u001b[0;34m=\u001b[0m \u001b[0mtrain_rnn\u001b[0m\u001b[0;34m(\u001b[0m\u001b[0mrnn\u001b[0m\u001b[0;34m,\u001b[0m \u001b[0mtraining_params\u001b[0m\u001b[0;34m,\u001b[0m \u001b[0mdms\u001b[0m\u001b[0;34m,\u001b[0m \u001b[0msync_wandb\u001b[0m\u001b[0;34m=\u001b[0m\u001b[0;32mFalse\u001b[0m\u001b[0;34m)\u001b[0m\u001b[0;34m\u001b[0m\u001b[0;34m\u001b[0m\u001b[0m\n\u001b[0m",
      "\u001b[0;32m~/pyrnn/rnn/train.py\u001b[0m in \u001b[0;36mtrain_rnn\u001b[0;34m(rnn, training_params, task, sync_wandb, wandb_log_freq, x0)\u001b[0m\n\u001b[1;32m    111\u001b[0m             \u001b[0mm\u001b[0m \u001b[0;34m=\u001b[0m \u001b[0mm\u001b[0m\u001b[0;34m.\u001b[0m\u001b[0mto\u001b[0m\u001b[0;34m(\u001b[0m\u001b[0mdevice\u001b[0m\u001b[0;34m=\u001b[0m\u001b[0mdevice\u001b[0m\u001b[0;34m)\u001b[0m\u001b[0;34m\u001b[0m\u001b[0;34m\u001b[0m\u001b[0m\n\u001b[1;32m    112\u001b[0m \u001b[0;34m\u001b[0m\u001b[0m\n\u001b[0;32m--> 113\u001b[0;31m             \u001b[0mrates\u001b[0m\u001b[0;34m,\u001b[0m \u001b[0my_pred\u001b[0m \u001b[0;34m=\u001b[0m \u001b[0mrnn\u001b[0m\u001b[0;34m(\u001b[0m\u001b[0mx\u001b[0m\u001b[0;34m,\u001b[0m\u001b[0mx0\u001b[0m\u001b[0;34m)\u001b[0m\u001b[0;34m\u001b[0m\u001b[0;34m\u001b[0m\u001b[0m\n\u001b[0m\u001b[1;32m    114\u001b[0m             \u001b[0moptimizer\u001b[0m\u001b[0;34m.\u001b[0m\u001b[0mzero_grad\u001b[0m\u001b[0;34m(\u001b[0m\u001b[0;34m)\u001b[0m\u001b[0;34m\u001b[0m\u001b[0;34m\u001b[0m\u001b[0m\n\u001b[1;32m    115\u001b[0m             \u001b[0mtask_loss\u001b[0m \u001b[0;34m=\u001b[0m \u001b[0mloss_fn\u001b[0m\u001b[0;34m(\u001b[0m\u001b[0my_pred\u001b[0m\u001b[0;34m,\u001b[0m \u001b[0my\u001b[0m\u001b[0;34m,\u001b[0m \u001b[0mm\u001b[0m\u001b[0;34m)\u001b[0m\u001b[0;34m\u001b[0m\u001b[0;34m\u001b[0m\u001b[0m\n",
      "\u001b[0;32m~/miniconda3/envs/PhaseC/lib/python3.7/site-packages/torch/nn/modules/module.py\u001b[0m in \u001b[0;36m_call_impl\u001b[0;34m(self, *input, **kwargs)\u001b[0m\n\u001b[1;32m   1108\u001b[0m         if not (self._backward_hooks or self._forward_hooks or self._forward_pre_hooks or _global_backward_hooks\n\u001b[1;32m   1109\u001b[0m                 or _global_forward_hooks or _global_forward_pre_hooks):\n\u001b[0;32m-> 1110\u001b[0;31m             \u001b[0;32mreturn\u001b[0m \u001b[0mforward_call\u001b[0m\u001b[0;34m(\u001b[0m\u001b[0;34m*\u001b[0m\u001b[0minput\u001b[0m\u001b[0;34m,\u001b[0m \u001b[0;34m**\u001b[0m\u001b[0mkwargs\u001b[0m\u001b[0;34m)\u001b[0m\u001b[0;34m\u001b[0m\u001b[0;34m\u001b[0m\u001b[0m\n\u001b[0m\u001b[1;32m   1111\u001b[0m         \u001b[0;31m# Do not call functions when jit is used\u001b[0m\u001b[0;34m\u001b[0m\u001b[0;34m\u001b[0m\u001b[0;34m\u001b[0m\u001b[0m\n\u001b[1;32m   1112\u001b[0m         \u001b[0mfull_backward_hooks\u001b[0m\u001b[0;34m,\u001b[0m \u001b[0mnon_full_backward_hooks\u001b[0m \u001b[0;34m=\u001b[0m \u001b[0;34m[\u001b[0m\u001b[0;34m]\u001b[0m\u001b[0;34m,\u001b[0m \u001b[0;34m[\u001b[0m\u001b[0;34m]\u001b[0m\u001b[0;34m\u001b[0m\u001b[0;34m\u001b[0m\u001b[0m\n",
      "\u001b[0;32m~/pyrnn/rnn/model.py\u001b[0m in \u001b[0;36mforward\u001b[0;34m(self, input, x0)\u001b[0m\n\u001b[1;32m     88\u001b[0m         \u001b[0;31m# run through all timesteps\u001b[0m\u001b[0;34m\u001b[0m\u001b[0;34m\u001b[0m\u001b[0;34m\u001b[0m\u001b[0m\n\u001b[1;32m     89\u001b[0m         \u001b[0;32mfor\u001b[0m \u001b[0mi\u001b[0m\u001b[0;34m,\u001b[0m \u001b[0minput_t\u001b[0m \u001b[0;32min\u001b[0m \u001b[0menumerate\u001b[0m\u001b[0;34m(\u001b[0m\u001b[0minput\u001b[0m\u001b[0;34m.\u001b[0m\u001b[0msplit\u001b[0m\u001b[0;34m(\u001b[0m\u001b[0;36m1\u001b[0m\u001b[0;34m,\u001b[0m \u001b[0mdim\u001b[0m\u001b[0;34m=\u001b[0m\u001b[0;36m1\u001b[0m\u001b[0;34m)\u001b[0m\u001b[0;34m)\u001b[0m\u001b[0;34m:\u001b[0m\u001b[0;34m\u001b[0m\u001b[0;34m\u001b[0m\u001b[0m\n\u001b[0;32m---> 90\u001b[0;31m             \u001b[0mh_t\u001b[0m\u001b[0;34m,\u001b[0m \u001b[0moutput\u001b[0m \u001b[0;34m=\u001b[0m \u001b[0mself\u001b[0m\u001b[0;34m.\u001b[0m\u001b[0mrnn\u001b[0m\u001b[0;34m(\u001b[0m\u001b[0minput_t\u001b[0m\u001b[0;34m.\u001b[0m\u001b[0msqueeze\u001b[0m\u001b[0;34m(\u001b[0m\u001b[0mdim\u001b[0m\u001b[0;34m=\u001b[0m\u001b[0;36m1\u001b[0m\u001b[0;34m)\u001b[0m\u001b[0;34m,\u001b[0m \u001b[0mh_t\u001b[0m\u001b[0;34m,\u001b[0m \u001b[0mnoise\u001b[0m\u001b[0;34m[\u001b[0m\u001b[0;34m:\u001b[0m\u001b[0;34m,\u001b[0m \u001b[0mi\u001b[0m\u001b[0;34m]\u001b[0m\u001b[0;34m)\u001b[0m\u001b[0;34m\u001b[0m\u001b[0;34m\u001b[0m\u001b[0m\n\u001b[0m\u001b[1;32m     91\u001b[0m             \u001b[0mrates\u001b[0m\u001b[0;34m[\u001b[0m\u001b[0;34m:\u001b[0m\u001b[0;34m,\u001b[0m \u001b[0mi\u001b[0m\u001b[0;34m]\u001b[0m \u001b[0;34m=\u001b[0m \u001b[0mh_t\u001b[0m\u001b[0;34m\u001b[0m\u001b[0;34m\u001b[0m\u001b[0m\n\u001b[1;32m     92\u001b[0m             \u001b[0moutputs\u001b[0m\u001b[0;34m[\u001b[0m\u001b[0;34m:\u001b[0m\u001b[0;34m,\u001b[0m \u001b[0mi\u001b[0m\u001b[0;34m]\u001b[0m \u001b[0;34m=\u001b[0m \u001b[0moutput\u001b[0m\u001b[0;34m\u001b[0m\u001b[0;34m\u001b[0m\u001b[0m\n",
      "\u001b[0;32m~/miniconda3/envs/PhaseC/lib/python3.7/site-packages/torch/nn/modules/module.py\u001b[0m in \u001b[0;36m_call_impl\u001b[0;34m(self, *input, **kwargs)\u001b[0m\n\u001b[1;32m   1108\u001b[0m         if not (self._backward_hooks or self._forward_hooks or self._forward_pre_hooks or _global_backward_hooks\n\u001b[1;32m   1109\u001b[0m                 or _global_forward_hooks or _global_forward_pre_hooks):\n\u001b[0;32m-> 1110\u001b[0;31m             \u001b[0;32mreturn\u001b[0m \u001b[0mforward_call\u001b[0m\u001b[0;34m(\u001b[0m\u001b[0;34m*\u001b[0m\u001b[0minput\u001b[0m\u001b[0;34m,\u001b[0m \u001b[0;34m**\u001b[0m\u001b[0mkwargs\u001b[0m\u001b[0;34m)\u001b[0m\u001b[0;34m\u001b[0m\u001b[0;34m\u001b[0m\u001b[0m\n\u001b[0m\u001b[1;32m   1111\u001b[0m         \u001b[0;31m# Do not call functions when jit is used\u001b[0m\u001b[0;34m\u001b[0m\u001b[0;34m\u001b[0m\u001b[0;34m\u001b[0m\u001b[0m\n\u001b[1;32m   1112\u001b[0m         \u001b[0mfull_backward_hooks\u001b[0m\u001b[0;34m,\u001b[0m \u001b[0mnon_full_backward_hooks\u001b[0m \u001b[0;34m=\u001b[0m \u001b[0;34m[\u001b[0m\u001b[0;34m]\u001b[0m\u001b[0;34m,\u001b[0m \u001b[0;34m[\u001b[0m\u001b[0;34m]\u001b[0m\u001b[0;34m\u001b[0m\u001b[0;34m\u001b[0m\u001b[0m\n",
      "\u001b[0;32m~/pyrnn/rnn/model.py\u001b[0m in \u001b[0;36mforward\u001b[0;34m(self, input, x, noise)\u001b[0m\n\u001b[1;32m    185\u001b[0m         )\n\u001b[1;32m    186\u001b[0m         \u001b[0;31m# update hidden state\u001b[0m\u001b[0;34m\u001b[0m\u001b[0;34m\u001b[0m\u001b[0;34m\u001b[0m\u001b[0m\n\u001b[0;32m--> 187\u001b[0;31m         \u001b[0mx\u001b[0m \u001b[0;34m=\u001b[0m \u001b[0;34m(\u001b[0m\u001b[0;36m1\u001b[0m \u001b[0;34m-\u001b[0m \u001b[0malpha\u001b[0m\u001b[0;34m)\u001b[0m \u001b[0;34m*\u001b[0m \u001b[0mx\u001b[0m \u001b[0;34m+\u001b[0m \u001b[0malpha\u001b[0m \u001b[0;34m*\u001b[0m \u001b[0mrec_input\u001b[0m \u001b[0;34m+\u001b[0m \u001b[0mnoise_t\u001b[0m\u001b[0;34m\u001b[0m\u001b[0;34m\u001b[0m\u001b[0m\n\u001b[0m\u001b[1;32m    188\u001b[0m \u001b[0;34m\u001b[0m\u001b[0m\n\u001b[1;32m    189\u001b[0m         \u001b[0;31m# linear readout of the rates\u001b[0m\u001b[0;34m\u001b[0m\u001b[0;34m\u001b[0m\u001b[0;34m\u001b[0m\u001b[0m\n",
      "\u001b[0;31mKeyboardInterrupt\u001b[0m: "
     ]
    }
   ],
   "source": [
    "rnn = RNN(model_params)\n",
    "\n",
    "losses, reg_losses = train_rnn(rnn, training_params, dms, sync_wandb=False)"
   ]
  },
  {
   "cell_type": "markdown",
   "id": "d2d0f61a",
   "metadata": {},
   "source": [
    "### Plot the trained weight matrix"
   ]
  },
  {
   "cell_type": "code",
   "execution_count": null,
   "id": "9efc0de3",
   "metadata": {},
   "outputs": [],
   "source": [
    "with mpl.rc_context(fname=\"matplotlibrc\"):\n",
    "    w_eff = rnn.rnn.mask(rnn.rnn.w_rec, rnn.rnn.dale_mask)\n",
    "    w_eff = w_eff.cpu().detach().numpy()\n",
    "    eigvals = np.linalg.eigvals(w_eff)\n",
    "    fig, axs = plt.subplots(1, 2, figsize=(4, 1.5))\n",
    "    axs[0].scatter(np.real(eigvals), np.imag(eigvals))\n",
    "    axs[0].set_xlabel(r\"$\\mathcal{R}(\\lambda)$\")\n",
    "    axs[0].set_ylabel(r\"$\\mathcal{Im}(\\lambda)$\")\n",
    "    axs[1].set_ylabel(\"To: \")\n",
    "    axs[1].set_xlabel(\"From: \")\n",
    "    axs[1].set_xticks([])\n",
    "    axs[1].set_yticks([])\n",
    "    vmax = np.max(abs(w_eff))\n",
    "    im = axs[1].imshow(w_eff, vmin=-vmax, vmax=vmax, cmap=\"coolwarm\")\n",
    "    fig.colorbar(im)"
   ]
  },
  {
   "cell_type": "code",
   "execution_count": null,
   "id": "81f2eaab",
   "metadata": {},
   "outputs": [],
   "source": [
    "# plot distribution of time constants, if used\n",
    "if len(model_params[\"tau_lims\"]) > 1:\n",
    "    plt.hist(\n",
    "        Project_taus(rnn.rnn.taus_gaus, rnn.rnn.tau[0], rnn.rnn.tau[1])\n",
    "        .cpu()\n",
    "        .detach()\n",
    "        .numpy()\n",
    "        .flatten()\n",
    "    )"
   ]
  },
  {
   "cell_type": "markdown",
   "id": "7a1338f6",
   "metadata": {},
   "source": [
    "### Plot output for an example match and non match trial\n"
   ]
  },
  {
   "cell_type": "code",
   "execution_count": null,
   "id": "45edf988",
   "metadata": {},
   "outputs": [],
   "source": [
    "dataloader = DataLoader(dms, batch_size=training_params[\"batch_size\"], shuffle=False)\n",
    "s, t, m = next(iter(dataloader))\n",
    "rates, pred = predict(rnn, s, mse_loss, t, m)\n",
    "\n",
    "with mpl.rc_context(fname=\"matplotlibrc\"):\n",
    "    fig, axs = plt.subplots(1, 2, figsize=(8, 2))\n",
    "    axs[0].set_title(\"match trial\")\n",
    "    axs[0].plot(pred[0], label=\"prediction\")\n",
    "    axs[0].plot(t[0], label=\"target\")\n",
    "    axs[0].set_ylim(-1.4, 1.4)\n",
    "    axs[0].legend()\n",
    "    axs[0].set_xlim(0, dms.trial_len())\n",
    "    axs[0].set_xlabel(\"timesteps\")\n",
    "    axs[1].set_title(\"non match trial\")\n",
    "    axs[1].set_yticks([])\n",
    "    axs[1].plot(pred[2], label=\"prediction\")\n",
    "    axs[1].plot(t[2], label=\"target\")\n",
    "    axs[1].set_ylim(-1.4, 1.4)\n",
    "    axs[1].set_xlabel(\"timesteps\")\n",
    "    axs[1].set_xlim(0, dms.trial_len())"
   ]
  },
  {
   "cell_type": "markdown",
   "id": "2361f450",
   "metadata": {},
   "source": [
    "### Plot trajectories projected on first three PCs"
   ]
  },
  {
   "cell_type": "code",
   "execution_count": null,
   "id": "c1369ff1",
   "metadata": {},
   "outputs": [],
   "source": [
    "z, varexp = PC_traj(rates, n_comp=3)\n",
    "with mpl.rc_context(fname=\"matplotlibrc\"):\n",
    "    fig = plt.figure()\n",
    "    ax = fig.add_subplot(111, projection=\"3d\")\n",
    "    ax.plot(z[0, :, 0], z[0, :, 1], z[0, :, 2], color=\"black\", label=\"AA\")\n",
    "    ax.plot(z[1, :, 0], z[1, :, 1], z[1, :, 2], color=\"red\", label=\"BB\")\n",
    "    ax.plot(z[2, :, 0], z[2, :, 1], z[2, :, 2], color=\"black\", ls=\"--\", label=\"AB\")\n",
    "    ax.plot(z[3, :, 0], z[3, :, 1], z[3, :, 2], color=\"red\", ls=\"--\", label=\"BA\")\n",
    "    ax.set_xlabel(\"PC 1, var {:.2f}\".format(varexp[0]))\n",
    "    ax.set_ylabel(\"PC 2, var {:.2f}\".format(varexp[1]))\n",
    "    ax.set_zlabel(\"PC 3, var {:.2f}\".format(varexp[2]))\n",
    "    plt.legend()\n",
    "    plt.show()"
   ]
  },
  {
   "cell_type": "markdown",
   "id": "fe798c5c",
   "metadata": {},
   "source": [
    "### Save and load a model\n",
    "We plot the output for the previous two trials to check the loaded model"
   ]
  },
  {
   "cell_type": "code",
   "execution_count": null,
   "id": "2f9bf26d",
   "metadata": {},
   "outputs": [],
   "source": [
    "# save and load\n",
    "save_rnn(\"test_model\", rnn, model_params, task_params, training_params)\n",
    "rnn2, model_params, task_params, training_params = load_rnn(\"test_model\")\n",
    "\n",
    "# plot example output of new net\n",
    "rates, pred = predict(rnn2, s, mse_loss, t, m)\n",
    "\n",
    "with mpl.rc_context(fname=\"matplotlibrc\"):\n",
    "    fig, axs = plt.subplots(1, 2, figsize=(8, 2))\n",
    "    axs[0].set_title(\"match trial\")\n",
    "    axs[0].plot(pred[0], label=\"prediction\")\n",
    "    axs[0].plot(t[0], label=\"target\")\n",
    "    axs[0].set_ylim(-1.4, 1.4)\n",
    "    axs[0].legend()\n",
    "    axs[0].set_xlim(0, dms.trial_len())\n",
    "    axs[0].set_xlabel(\"timesteps\")\n",
    "    axs[1].set_title(\"non match trial\")\n",
    "    axs[1].set_yticks([])\n",
    "    axs[1].plot(pred[2], label=\"prediction\")\n",
    "    axs[1].plot(t[2], label=\"target\")\n",
    "    axs[1].set_ylim(-1.4, 1.4)\n",
    "    axs[1].set_xlabel(\"timesteps\")\n",
    "    axs[1].set_xlim(0, dms.trial_len())"
   ]
  },
  {
   "cell_type": "markdown",
   "id": "3a224b7e",
   "metadata": {},
   "source": [
    "### We can also regularize an RNN to exhibit oscillatory activity"
   ]
  },
  {
   "cell_type": "code",
   "execution_count": null,
   "id": "965ad2e9",
   "metadata": {},
   "outputs": [],
   "source": [
    "training_params[\"osc_reg_cost\"] = 5\n",
    "training_params[\"osc_reg_freq\"] = 3\n",
    "\n",
    "rnn_osc = RNN(model_params)\n",
    "losses, reg_losses = train_rnn(rnn_osc, training_params, dms, sync_wandb=False)"
   ]
  },
  {
   "cell_type": "code",
   "execution_count": null,
   "id": "bafd7f11",
   "metadata": {},
   "outputs": [],
   "source": [
    "rates, pred = predict(rnn_osc, s, mse_loss, t, m)\n",
    "\n",
    "LFP = (\n",
    "    extract_lfp(torch.from_numpy(rates).cuda(), rnn.rnn, normalize=False)\n",
    "    .cpu()\n",
    "    .detach()\n",
    "    .numpy()\n",
    ")\n",
    "\n",
    "freqs_l = np.logspace(*np.log10([1, 10]), num=50)\n",
    "dt_sec = model_params[\"dt\"] / 1000\n",
    "tm = np.arange(0, dms.trial_len() * dt_sec, dt_sec)\n",
    "_, amp = scalogram(\n",
    "    LFP[0],\n",
    "    7,\n",
    "    tm,\n",
    "    dt_sec,\n",
    "    freqs_l,\n",
    ")"
   ]
  },
  {
   "cell_type": "code",
   "execution_count": null,
   "id": "304aea00",
   "metadata": {},
   "outputs": [],
   "source": [
    "with mpl.rc_context(fname=\"matplotlibrc\"):\n",
    "\n",
    "    fig, axs = plt.subplots(1, 2, figsize=(8, 1.5))\n",
    "    axs[0].set_title(\"example LFPs\")\n",
    "    axs[0].plot(LFP.T)\n",
    "    axs[0].set_xlim(0, dms.trial_len())\n",
    "\n",
    "    axs[1].set_title(\"Spectrogram\")\n",
    "    axs[1].imshow(amp, aspect=\"auto\")\n",
    "    axs[1].set_yticks(np.arange(0, len(freqs_l))[::13])\n",
    "    axs[1].set_yticklabels([\"{:.1f}\".format(f).strip(\"0\") for f in freqs_l[::13]])\n",
    "    axs[1].set_ylabel(\"Freq (Hz)\")"
   ]
  },
  {
   "cell_type": "code",
   "execution_count": null,
   "id": "95c5f165",
   "metadata": {},
   "outputs": [],
   "source": [
    "with mpl.rc_context(fname=\"matplotlibrc\"):\n",
    "    w_eff = rnn_osc.rnn.mask(rnn_osc.rnn.w_rec, rnn_osc.rnn.dale_mask)\n",
    "    w_eff = w_eff.cpu().detach().numpy()\n",
    "    eigvals = np.linalg.eigvals(w_eff)\n",
    "    fig, axs = plt.subplots(1, 2, figsize=(4, 1.5))\n",
    "    axs[0].scatter(np.real(eigvals), np.imag(eigvals))\n",
    "    axs[0].set_xlabel(r\"$\\mathcal{R}(\\lambda)$\")\n",
    "    axs[0].set_ylabel(r\"$\\mathcal{Im}(\\lambda)$\")\n",
    "    axs[1].set_ylabel(\"To: \")\n",
    "    axs[1].set_xlabel(\"From: \")\n",
    "    axs[1].set_xticks([])\n",
    "    axs[1].set_yticks([])\n",
    "    vmax = np.max(abs(w_eff))\n",
    "    im = axs[1].imshow(w_eff, vmin=-vmax, vmax=vmax, cmap=\"coolwarm\")\n",
    "    fig.colorbar(im)"
   ]
  }
 ],
 "metadata": {
  "kernelspec": {
   "display_name": "Python 3 (ipykernel)",
   "language": "python",
   "name": "python3"
  },
  "language_info": {
   "codemirror_mode": {
    "name": "ipython",
    "version": 3
   },
   "file_extension": ".py",
   "mimetype": "text/x-python",
   "name": "python",
   "nbconvert_exporter": "python",
   "pygments_lexer": "ipython3",
   "version": "3.8.13"
  },
  "toc": {
   "base_numbering": 1,
   "nav_menu": {},
   "number_sections": true,
   "sideBar": true,
   "skip_h1_title": false,
   "title_cell": "Table of Contents",
   "title_sidebar": "Contents",
   "toc_cell": false,
   "toc_position": {},
   "toc_section_display": true,
   "toc_window_display": true
  }
 },
 "nbformat": 4,
 "nbformat_minor": 5
}
