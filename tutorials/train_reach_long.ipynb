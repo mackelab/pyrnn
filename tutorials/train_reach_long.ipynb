{
 "cells": [
  {
   "cell_type": "code",
   "execution_count": 1,
   "id": "65d93fbc",
   "metadata": {},
   "outputs": [],
   "source": [
    "import numpy as np\n",
    "import torch\n",
    "from default_params import default_params\n",
    "import sys\n",
    "sys.path.append('..')\n",
    "from rnn.reaching_task import Reaching\n",
    "from rnn.utils import PC_traj\n",
    "from rnn.train import train_rnn, predict,save_rnn,mse_loss\n",
    "from rnn.model import RNN\n",
    "from torch.utils.data import DataLoader\n",
    "\n",
    "import matplotlib as mpl\n",
    "import matplotlib.pyplot as plt\n",
    "%matplotlib inline\n",
    "\n",
    "torch.manual_seed(1)\n",
    "np.random.seed(1)"
   ]
  },
  {
   "cell_type": "markdown",
   "id": "d7acfbf1",
   "metadata": {},
   "source": [
    "### Here we will repeat the train reach tutorial, but have longer trial durations\n",
    "\n",
    "Here the model doesn't train anymore. Existing solution (some of which seem to work).\n",
    "\n",
    "1. Curriculum learning (we used this in: [Liebe et al. 2022](https://www.biorxiv.org/content/10.1101/2022.09.25.509370v1)): First train on a task with a short duration, and gradually increase the length.\n",
    "\n",
    "2. Coarsened discretization: First train with a large timestep (for the euler integration), and gradually decrease this\n",
    "\n",
    "3. Temporal skip connections [Soo et al. 2023](https://www.biorxiv.org/content/10.1101/2023.10.10.561588v1): These are annealed to 0 over training iterations, to end up with a biologically plausible network. \n",
    "\n",
    "4. Regularise the gradient norm [Pascanu et al. 2013](https://proceedings.mlr.press/v28/pascanu13.html)\n"
   ]
  },
  {
   "cell_type": "markdown",
   "id": "ba9a3cbf",
   "metadata": {},
   "source": [
    "### We now setup the task for the RNN\n",
    "The stimulus position is defined by a phase $\\theta \\in [0, 2\\pi)$\n",
    "\n",
    "The model has three input channels. It receives $\\sin(\\theta),\\cos(\\theta)$ to input channel 1 and 2, respectively, during stimulus (Target) onset. During the Movement onset the model gets a constant input cue to channel 3, and it is tasked to output the stored location (also as $\\sin(\\theta),\\cos(\\theta)$).\n",
    "\n",
    "The model will learn to perform this task by training it on batches of trials with different stimulus locations $\\theta$.\n",
    "\n",
    "![Monkey reach task](https://raw.githubusercontent.com/mackelab/pyrnn/main/tutorials/images/MonkeyReach.png)\n",
    "\n",
    "image adapted from [Gallego et al. 2018](https://www.biorxiv.org/content/10.1101/447441v1.full)"
   ]
  },
  {
   "cell_type": "code",
   "execution_count": 2,
   "id": "bfe38745",
   "metadata": {},
   "outputs": [],
   "source": [
    "# Setup a task, here we simply increase the trial durations\n",
    "# Note, this is identical to decreasing the euler integration step.\n",
    "\n",
    "task_params = {\n",
    "        'onset': [25,200], # time till target stimulus onset (uniform between)\n",
    "        'trial_len' : 1200, # trial duration\n",
    "        'stim_dur' : [25,50], # target stimulus duration\n",
    "        'delay_dur': [500,700],# time till Movement onset cue \n",
    "        'n_stim': 6 #number of stimuli locations\n",
    "}\n",
    "reaching = Reaching(task_params)   \n",
    "stimulus, target, loss_mask = reaching[1]\n"
   ]
  },
  {
   "cell_type": "code",
   "execution_count": 3,
   "id": "195cc7db",
   "metadata": {
    "scrolled": true
   },
   "outputs": [
    {
     "data": {
      "image/png": "[encoded data removed]",
      "text/plain": [
       "<Figure size 432x216 with 5 Axes>"
      ]
     },
     "metadata": {
      "needs_background": "light"
     },
     "output_type": "display_data"
    }
   ],
   "source": [
    "# Plot an example trial\n",
    "\n",
    "fig,axs = plt.subplots(3,2,figsize=(6, 3))\n",
    "fig.suptitle(\"Example trial\")\n",
    "axs[0,0].set_title(\"Input channels\")\n",
    "axs[0,1].set_title(\"Target\")\n",
    "axs[0,0].set_ylabel(r\"$\\sin(\\theta)$\")\n",
    "axs[1,0].set_ylabel(r\"$\\cos(\\theta)$\")\n",
    "axs[2,0].set_ylabel(\"cue\")\n",
    "\n",
    "for i in range(3):\n",
    "    axs[i,0].plot(stimulus[:,i],color='teal')\n",
    "    axs[i,0].set_xlim(0,task_params['trial_len'])\n",
    "    axs[i,0].set_ylim(-1.2,1.2)\n",
    "\n",
    "for i in range(2):\n",
    "    axs[i,1].plot(target[:,i], color='purple')\n",
    "    axs[i,0].set_xlim(0,task_params['trial_len'])\n",
    "    axs[i,1].set_ylim(-1.2,1.2)\n",
    "    axs[i,0].set_xticklabels([])\n",
    "axs[0,1].set_xticklabels([])\n",
    "axs[2,1].set_xlabel(\"time steps\")\n",
    "axs[2,0].set_xlabel(\"time steps\")\n",
    "fig.delaxes(axs[2,1])"
   ]
  },
  {
   "cell_type": "markdown",
   "id": "26b4488a",
   "metadata": {},
   "source": [
    "### Initialize an RNN and start training it\n",
    "\n",
    "The RNN consists of $N$ units, with activation $\\mathbf{x}(t)\\in \\mathcal{R}^N$, recurrently connected via a connectivity matrix $\\mathbf{J} \\in \\mathcal{R}^{N\\times N}$, and receiving input $\\mathbf{u}(t) \\in \\mathcal{R}^{3}$,\n",
    "\\begin{equation}\\tau \\frac{d\\mathbf{x}}{dt}=-\\mathbf{x}(t)+\\mathbf{J} \\tanh(\\mathbf{x}(t))+\\mathbf{I}\\mathbf{u}(t)+\\boldsymbol{\\xi}(t),\n",
    "\\end{equation}\n",
    " where $\\tau$ represents the time constant of the units, $\\tanh$ is an elementwise non-linearity, $\\mathbf{I}\\in \\mathcal{R}^{N\\times3}$ represents the input weights, and $\\boldsymbol{\\xi}(t) \\in {R}^N$ independent noise for each unit.\n",
    "\n",
    "During training we discretize using the Euler-Maruyama method and use backpropagation through time to optimise the network parameters. We use a mean-squared error loss between the targets plotted above, and a linear readout from the network's activity: $\\mathbf{W}^\\mathsf{T}\\tanh(\\mathbf{x})$ "
   ]
  },
  {
   "cell_type": "code",
   "execution_count": 14,
   "id": "d1daa3ca",
   "metadata": {},
   "outputs": [
    {
     "name": "stdout",
     "output_type": "stream",
     "text": [
      "spectral_rad: 1.0\n"
     ]
    }
   ],
   "source": [
    "# Initialise model\n",
    "\n",
    "model_params, training_params, _ = default_params()\n",
    "model_params['n_out']=2\n",
    "model_params['n_inp']=3\n",
    "training_params['n_epochs']=1000\n",
    "rnn = RNN(model_params)"
   ]
  },
  {
   "cell_type": "code",
   "execution_count": 16,
   "id": "74c7a1e3",
   "metadata": {
    "scrolled": true
   },
   "outputs": [
    {
     "name": "stdout",
     "output_type": "stream",
     "text": [
      "epoch 1000 / 1000: time=274.6 s, task loss=0.23819, reg loss=0.00000\n",
      "Done. Training took 274.6 sec.\n",
      "epoch 1000 / 1000: time=273.2 s, task loss=0.20382, reg loss=0.00000\n",
      "Done. Training took 273.2 sec.\n",
      "epoch 1000 / 1000: time=274.4 s, task loss=0.22584, reg loss=0.00000\n",
      "Done. Training took 274.4 sec.\n"
     ]
    }
   ],
   "source": [
    "# Train\n",
    "losses_all=[]\n",
    "lrs = [10e-3, 10e-4, 10e-5]\n",
    "for lr in lrs:\n",
    "    training_params['lr']=lr\n",
    "    losses, reg_losses = train_rnn(rnn, training_params, reaching, sync_wandb=False)\n",
    "    losses_all.append(losses)"
   ]
  },
  {
   "cell_type": "code",
   "execution_count": 12,
   "id": "2830e856",
   "metadata": {},
   "outputs": [
    {
     "data": {
      "text/plain": [
       "Text(0, 0.5, 'loss')"
      ]
     },
     "execution_count": 12,
     "metadata": {},
     "output_type": "execute_result"
    },
    {
     "data": {
      "image/png": "[encoded data removed]",
      "text/plain": [
       "<Figure size 432x288 with 1 Axes>"
      ]
     },
     "metadata": {
      "needs_background": "light"
     },
     "output_type": "display_data"
    }
   ],
   "source": [
    "# Plot the loss\n",
    "for loss, lr in zip(losses_all, lrs):\n",
    "    plt.plot(loss, label=str(lr))\n",
    "plt.legend()\n",
    "plt.xlim(0)\n",
    "plt.ylim(0)\n",
    "plt.xlabel(\"epochs\")\n",
    "plt.ylabel(\"loss\")"
   ]
  },
  {
   "cell_type": "markdown",
   "id": "8485aa8e",
   "metadata": {},
   "source": [
    "### Plot example output\n",
    "\n",
    "Here we plot the output of the network for an example trial. We should see a good match to the target\n"
   ]
  },
  {
   "cell_type": "code",
   "execution_count": 17,
   "id": "1a076b92",
   "metadata": {},
   "outputs": [
    {
     "name": "stdout",
     "output_type": "stream",
     "text": [
      "test loss: 0.18883207440376282\n",
      "==========================\n"
     ]
    },
    {
     "data": {
      "text/plain": [
       "<matplotlib.legend.Legend at 0x28bbe5e20>"
      ]
     },
     "execution_count": 17,
     "metadata": {},
     "output_type": "execute_result"
    },
    {
     "data": {
      "image/png": "[encoded data removed]",
      "text/plain": [
       "<Figure size 288x288 with 2 Axes>"
      ]
     },
     "metadata": {
      "needs_background": "light"
     },
     "output_type": "display_data"
    }
   ],
   "source": [
    "stimulus, target, loss_mask = reaching[np.random.randint(len(reaching))]\n",
    "\n",
    "rates, pred = predict(rnn, stimulus, mse_loss, target, loss_mask)\n",
    "fig, axs = plt.subplots(2,1, figsize=(4, 4))\n",
    "\n",
    "for i in range(2):\n",
    "    axs[i].set_ylabel(\"channel \"+str(i+1))\n",
    "    axs[i].plot(pred[0,:,i], label=\"prediction\",color='pink',zorder=2)\n",
    "    axs[i].plot(target[:,i], label=\"target\",color='purple',zorder=0)\n",
    "    axs[i].set_xlim(0, task_params['trial_len'])\n",
    "    axs[i].set_xlabel(\"timesteps\")\n",
    "    axs[i].set_ylim(-1.2, 1.2)\n",
    "axs[1].legend()"
   ]
  },
  {
   "cell_type": "code",
   "execution_count": 18,
   "id": "bcf17ba2",
   "metadata": {},
   "outputs": [],
   "source": [
    "# save\n",
    "save_rnn(\"reach_model\", rnn, model_params, task_params, training_params)"
   ]
  },
  {
   "cell_type": "markdown",
   "id": "88deb85e",
   "metadata": {},
   "source": [
    "### Let's look at low-dimensional dynamics!\n",
    "\n",
    "We can understand how the model performs the task and stores stimulus information by looking at its fixed points.\n",
    "\n",
    "See Sussillo & Barak 2013: https://pubmed.ncbi.nlm.nih.gov/23272922/\n",
    "or Driscoll et al. 2022: https://www.biorxiv.org/content/10.1101/2022.08.15.503870v1\n",
    "\n",
    "To find fixed points, here we will first simply present stimuli and run the dynamics forward for a long time, till the network converges (in the last cell we use a more through method). We will see that the model implements a 'ring' of fixed points which it can use to store information\n",
    "\n",
    "We plot the fixed point (colorful dots below) and trajectories (grey lines) for different trials, by projecting on the first two principal components of the network activity"
   ]
  },
  {
   "cell_type": "code",
   "execution_count": 19,
   "id": "f7da1657",
   "metadata": {},
   "outputs": [],
   "source": [
    "# Setup trials with the different stimuli presented\n",
    "\n",
    "task_params['trial_len']=1000\n",
    "reaching = Reaching(task_params)\n",
    "dataloader = DataLoader(reaching, batch_size=reaching.__len__(), shuffle=False)\n",
    "stimulus, target, loss_mask = next(iter(dataloader))\n",
    "stimulus[:,100:,:]=0\n",
    "rnn.params['noise_std']=0\n",
    "rates_fp, pred = predict(rnn, stimulus)\n"
   ]
  },
  {
   "cell_type": "code",
   "execution_count": 20,
   "id": "956adf2d",
   "metadata": {},
   "outputs": [
    {
     "name": "stdout",
     "output_type": "stream",
     "text": [
      "7.825391e-22\n"
     ]
    }
   ],
   "source": [
    "# quick check if rates have converged, this should be a small number\n",
    "print(np.linalg.norm(np.diff(rates_fp[:,-50:,:],axis=1)))"
   ]
  },
  {
   "cell_type": "code",
   "execution_count": 21,
   "id": "635864a6",
   "metadata": {},
   "outputs": [
    {
     "data": {
      "text/plain": [
       "<matplotlib.legend.Legend at 0x292190d00>"
      ]
     },
     "execution_count": 21,
     "metadata": {},
     "output_type": "execute_result"
    },
    {
     "data": {
      "image/png": "[encoded data removed]",
      "text/plain": [
       "<Figure size 360x360 with 2 Axes>"
      ]
     },
     "metadata": {
      "needs_background": "light"
     },
     "output_type": "display_data"
    }
   ],
   "source": [
    "# plot the trajectories in PC space\n",
    "\n",
    "z, varexp = PC_traj(rates_fp, n_comp=3)\n",
    "alpha=0.2\n",
    "cmap = mpl.colormaps['hsv']\n",
    "fig = plt.figure(figsize=(5,5))\n",
    "t_end = -2\n",
    "ax = fig.add_subplot(111)\n",
    "\n",
    "# add final points\n",
    "cax=ax.scatter(z[:, t_end , 0], z[:, t_end , 1],c=np.arange(task_params['n_stim']), cmap=cmap,vmin=0, vmax=task_params['n_stim']-1,s=50,alpha=1)\n",
    "\n",
    "# add trajectories\n",
    "for trial_i in range(task_params['n_stim']):\n",
    "    ax.plot(z[trial_i, :t_end, 0], z[trial_i, :t_end, 1], color='black', alpha=.5,zorder=-2)\n",
    "\n",
    "# add starting positions\n",
    "ax.scatter(z[:, 0 , 0], z[:, 0 , 1],c='black', s=50,alpha=1,marker='^',label='t=0')\n",
    "\n",
    "ax.set_xlabel(\"PC 1, var {:.2f}\".format(varexp[0]))\n",
    "ax.set_ylabel(\"PC 2, var {:.2f}\".format(varexp[1]))\n",
    "\n",
    "cbar=fig.colorbar(cax,fraction=0.02, pad=0.2,ticks=[0,task_params['n_stim']/2-0.5,task_params['n_stim']-1])\n",
    "cbar.ax.set_yticklabels(['0',r'$\\pi$',r'$2\\pi$'])\n",
    "cbar.ax.set_ylabel(r'stimulus position ($\\theta$)')\n",
    "plt.legend()"
   ]
  },
  {
   "cell_type": "markdown",
   "id": "a02a1d5c",
   "metadata": {},
   "source": [
    "### Use the [the fixed point finder toolbox](https://github.com/mattgolub/fixed-point-finder/blob/master/FixedPoints.py) to find fixed points\n",
    "\n",
    "In this repo we included a pytorch version of the original tensorflow toolbox\n",
    "\n",
    "It finds fixed points by using gradient descent to find minima of $q=\\lVert \\frac{d\\mathbf{x}}{dt}\\rVert$. Again, it also finds a ring of fixed points. One could next investigate how input changes the stability of these points"
   ]
  },
  {
   "cell_type": "code",
   "execution_count": null,
   "id": "fad8bcb6",
   "metadata": {},
   "outputs": [],
   "source": [
    "from pytorch_fixed_point_finder.FixedPointFinder import FixedPointFinder\n",
    "from pytorch_fixed_point_finder.plot_utils import plot_fps\n",
    "\n",
    "NOISE_SCALE = 0.025 # Standard deviation of noise added to initial states\n",
    "N_INITS = 1024 # The number of initial states to provide\n",
    "\n",
    "'''Fixed point finder hyperparameters. See FixedPointFinder.py for detailed\n",
    "descriptions of available hyperparameters.'''\n",
    "fpf_hps = {'max_iters':100000}\n",
    "\n",
    "# Setup the fixed point finder\n",
    "fpf = FixedPointFinder(rnn.rnn, **fpf_hps)\n",
    "\n",
    "# Study the system in the absence of input pulses (e.g., all inputs are 0)\n",
    "inputs = np.zeros([1,3])\n",
    "\n",
    "# sample trajectories\n",
    "task_params['trial_len']=25\n",
    "reaching = Reaching(task_params)\n",
    "dataloader = DataLoader(reaching, batch_size=reaching.__len__(), shuffle=False)\n",
    "stimulus, target, loss_mask = next(iter(dataloader))\n",
    "rates, pred = predict(rnn, stimulus)\n",
    "\n",
    "'''Draw random, noise corrupted samples of those state trajectories\n",
    "to use as initial states for the fixed point optimizations.'''\n",
    "initial_states = fpf.sample_states(rates_fp,\n",
    "    n_inits=N_INITS,\n",
    "    noise_scale=NOISE_SCALE)\n",
    "\n",
    "\n",
    "# Run the fixed point finder\n",
    "unique_fps, all_fps = fpf.find_fixed_points(torch.from_numpy(initial_states).to(torch.float32), \n",
    "                                            torch.from_numpy(inputs).to(torch.float32))\n"
   ]
  },
  {
   "cell_type": "code",
   "execution_count": null,
   "id": "d9d42572",
   "metadata": {},
   "outputs": [],
   "source": [
    "# Visualize identified fixed points with overlaid RNN state trajectories\n",
    "# All visualized in the 3D PCA space fit to the example RNN states.\n",
    "fig = plot_fps(unique_fps, rates_fp,\n",
    "    plot_start_time=0)\n"
   ]
  },
  {
   "cell_type": "code",
   "execution_count": null,
   "id": "49a4066a",
   "metadata": {},
   "outputs": [],
   "source": []
  },
  {
   "cell_type": "code",
   "execution_count": null,
   "id": "4c800177",
   "metadata": {},
   "outputs": [],
   "source": []
  }
 ],
 "metadata": {
  "kernelspec": {
   "display_name": "Python 3 (ipykernel)",
   "language": "python",
   "name": "python3"
  },
  "language_info": {
   "codemirror_mode": {
    "name": "ipython",
    "version": 3
   },
   "file_extension": ".py",
   "mimetype": "text/x-python",
   "name": "python",
   "nbconvert_exporter": "python",
   "pygments_lexer": "ipython3",
   "version": "3.8.13"
  },
  "toc": {
   "base_numbering": 1,
   "nav_menu": {},
   "number_sections": true,
   "sideBar": true,
   "skip_h1_title": false,
   "title_cell": "Table of Contents",
   "title_sidebar": "Contents",
   "toc_cell": false,
   "toc_position": {},
   "toc_section_display": true,
   "toc_window_display": true
  }
 },
 "nbformat": 4,
 "nbformat_minor": 5
}
